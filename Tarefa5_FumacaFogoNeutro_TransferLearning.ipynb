{
  "nbformat": 4,
  "nbformat_minor": 0,
  "metadata": {
    "colab": {
      "name": "Tarefa5_FumacaFogoNeutro_TransferLearning.ipynb",
      "provenance": [],
      "include_colab_link": true
    },
    "kernelspec": {
      "name": "python3",
      "display_name": "Python 3"
    },
    "language_info": {
      "name": "python"
    }
  },
  "cells": [
    {
      "cell_type": "markdown",
      "metadata": {
        "id": "view-in-github",
        "colab_type": "text"
      },
      "source": [
        "<a href=\"https://colab.research.google.com/github/jonasfelipe22/DLVC/blob/main/Tarefa5_FumacaFogoNeutro_TransferLearning.ipynb\" target=\"_parent\"><img src=\"https://colab.research.google.com/assets/colab-badge.svg\" alt=\"Open In Colab\"/></a>"
      ]
    },
    {
      "cell_type": "markdown",
      "metadata": {
        "id": "1jMG8Lrgd4on"
      },
      "source": [
        "# Tarefa 5\n",
        "\n",
        "Nesta tarefa, utilizaremos novamente o banco de imagens para detecção de fumaça e fogo. \n",
        "\n",
        "Desta vez, vamos usar Transfer Learning para melhorar o desempenho do classificador. \n",
        "\n",
        "O dataset foi disponibilizado por [Kaiming H. et al, Deep Residual Learning for Image Recognition](https://arxiv.org/abs/1512.03385 ). \n",
        "\n",
        "Os arquivos estão dispostos na mesma estrutura da Tarefa 4. \n"
      ]
    },
    {
      "cell_type": "code",
      "metadata": {
        "id": "3NFuMFYXtwsT"
      },
      "source": [
        "import tensorflow as tf\n",
        "import zipfile\n",
        "import os\n",
        "\n",
        "\n",
        "DESIRED_ACCURACY = 0.99\n",
        "\n",
        "!wget --no-check-certificate \\\n",
        "    \"https://github.com/DeepQuestAI/Fire-Smoke-Dataset/releases/download/v1/FIRE-SMOKE-DATASET.zip\" -O \"/tmp/fire-smoke.zip\"\n",
        "\n",
        "zip_ref = zipfile.ZipFile(\"/tmp/fire-smoke.zip\", 'r')\n",
        "zip_ref.extractall(\"/tmp/\")\n",
        "zip_ref.close()\n",
        "\n",
        "# Conjunto Fumaça-Fogo\n",
        "!mkdir -p /tmp/S-F/{Train,Test}/\n",
        "!ln -sf \"/tmp/FIRE-SMOKE-DATASET/Train/Smoke\" \"/tmp/S-F/Train/Smoke\"\n",
        "!ln -sf \"/tmp/FIRE-SMOKE-DATASET/Test/Smoke\" \"/tmp/S-F/Test/Smoke\"\n",
        "!ln -sf \"/tmp/FIRE-SMOKE-DATASET/Train/Fire\" \"/tmp/S-F/Train/Fire\"\n",
        "!ln -sf \"/tmp/FIRE-SMOKE-DATASET/Test/Fire\" \"/tmp/S-F/Test/Fire\"\n",
        "\n",
        "# Conjunto Neutro-Fogo\n",
        "!mkdir -p /tmp/N-F/{Train,Test}/\n",
        "!ln -sf \"/tmp/FIRE-SMOKE-DATASET/Train/Neutral\" \"/tmp/N-F/Train/Neutral\"\n",
        "!ln -sf \"/tmp/FIRE-SMOKE-DATASET/Test/Neutral\" \"/tmp/N-F/Test/Neutral\"\n",
        "!ln -sf \"/tmp/FIRE-SMOKE-DATASET/Train/Fire\" \"/tmp/N-F/Train/Fire\"\n",
        "!ln -sf \"/tmp/FIRE-SMOKE-DATASET/Test/Fire\" \"/tmp/N-F/Test/Fire\"\n",
        "\n",
        "# Conjunto Neutro-Fumaça\n",
        "!mkdir -p /tmp/N-S/{Train,Test}/\n",
        "!ln -sf \"/tmp/FIRE-SMOKE-DATASET/Train/Neutral\" \"/tmp/N-S/Train/Neutral\"\n",
        "!ln -sf \"/tmp/FIRE-SMOKE-DATASET/Test/Neutral\" \"/tmp/N-S/Test/Neutral\"\n",
        "!ln -sf \"/tmp/FIRE-SMOKE-DATASET/Train/Smoke\" \"/tmp/N-S/Train/Smoke\"\n",
        "!ln -sf \"/tmp/FIRE-SMOKE-DATASET/Test/Smoke\" \"/tmp/N-S/Test/Smoke\"\n",
        "\n"
      ],
      "execution_count": null,
      "outputs": []
    },
    {
      "cell_type": "markdown",
      "metadata": {
        "id": "TIET52LYfk9Y"
      },
      "source": [
        "O conjunto Neutro-Fogo está no diretório `/tmp/N-F/` e o conjunto Neutro-Fumaça está em `/tmp/N-S/`. \n",
        "\n",
        "O conjunto completo (com as três classes, Neutro, Fumaça e Fogo) está em `/tmp/FIRE-SMOKE/DATASET/`. \n",
        "\n",
        "Cada conjunto tem 2 subconjuntos: `Train` e `Test` para treinamento e validação, respectivamente. \n",
        "\n"
      ]
    },
    {
      "cell_type": "markdown",
      "metadata": {
        "id": "sEDvwgLzgLvN"
      },
      "source": [
        "## Questões\n",
        "\n",
        "1. Crie 2 modelos, um para o conjunto N-F e outro para o conjunto N-S. Através de TransferLearning, utilize parte da rede pré-treinada da InceptionV3 (conforme a Lição 9). Avalie o desempenho (acurácia e perdas no treinamento e validação). \n",
        "\n",
        "2. Desenvolva um classificador categórico, com a InceptionV3, para discriminar os 3 tipos de imagem: Neutro, Fumaça e Fogo. Avalie o desempenho. Você deverá modificar alguns pontos na sua rede, para que o classificador seja categórico: (i) flow_from_directory, (ii) função de perda e (iii) número de neurônios na camada de saída. \n",
        "\n"
      ]
    }
  ]
}